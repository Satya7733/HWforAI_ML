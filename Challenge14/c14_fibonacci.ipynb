{
  "nbformat": 4,
  "nbformat_minor": 0,
  "metadata": {
    "colab": {
      "provenance": [],
      "gpuType": "T4"
    },
    "kernelspec": {
      "name": "python3",
      "display_name": "Python 3"
    },
    "language_info": {
      "name": "python"
    },
    "accelerator": "GPU"
  },
  "cells": [
    {
      "cell_type": "markdown",
      "source": [
        "**`Challenge #14: Fibonacci sequence in CUDA`**\n",
        "• Write a CUDA kernel that computes the Fibonacci sequence for N numbers. E.g., N = 220.\n",
        "• The Fibonacci sequence is a famous mathematical sequence where each number is the sum of the two preceding ones. It starts with 0 and 1, and continues as follows: 0, 1, 1, 2, 3, 5, 8, 13, 21,\n",
        "34, 55, 89, 144, ...\n",
        "• The mathematical definition is:\n",
        "• F(0) = 0\n",
        "• F(1) = 1\n",
        "• F(n) = F(n-1) + F(n-2) for N-2 ³ n > 1\n",
        "• Compare a simple sequential implementation with your CUDA implementation. What do you observe?"
      ],
      "metadata": {
        "id": "7jkbDNNFdTKT"
      }
    },
    {
      "cell_type": "code",
      "source": [
        "%%writefile fib_profile.cu\n",
        "#include <cstdio>\n",
        "#include <cstdlib>\n",
        "#include <cuda_runtime.h>\n",
        "\n",
        "// Simple CUDA error checking\n",
        "#define CUDA_CHECK(call)                                              \\\n",
        "  do {                                                                \\\n",
        "    cudaError_t err = call;                                           \\\n",
        "    if (err != cudaSuccess) {                                         \\\n",
        "      fprintf(stderr, \"CUDA error at %s:%d: %s\\n\",                    \\\n",
        "              __FILE__, __LINE__, cudaGetErrorString(err));           \\\n",
        "      exit(1);                                                        \\\n",
        "    }                                                                 \\\n",
        "  } while (0)\n",
        "\n",
        "__global__ void fib_kernel(unsigned long long *out, int N) {\n",
        "  int idx = blockIdx.x * blockDim.x + threadIdx.x;\n",
        "  if (idx >= N) return;\n",
        "\n",
        "  if (idx == 0) {\n",
        "    out[0] = 0ULL;\n",
        "  } else if (idx == 1) {\n",
        "    out[1] = 1ULL;\n",
        "  } else {\n",
        "    unsigned long long a = 0ULL, b = 1ULL, c;\n",
        "    for (int i = 2; i <= idx; ++i) {\n",
        "      c = a + b;\n",
        "      a = b;\n",
        "      b = c;\n",
        "    }\n",
        "    out[idx] = b;\n",
        "  }\n",
        "}\n",
        "\n",
        "int main() {\n",
        "  const int N = 1 << 23;  // same N as before\n",
        "  size_t bytes = N * sizeof(unsigned long long);\n",
        "\n",
        "  // Allocate host & device\n",
        "  unsigned long long *h_out = (unsigned long long*)malloc(bytes);\n",
        "  CUDA_CHECK(h_out ? cudaSuccess : cudaErrorMemoryAllocation);\n",
        "  unsigned long long *d_out;\n",
        "  CUDA_CHECK(cudaMalloc(&d_out, bytes));\n",
        "\n",
        "  // Create events\n",
        "  cudaEvent_t startKernel, stopKernel, startTotal, stopTotal;\n",
        "  CUDA_CHECK(cudaEventCreate(&startKernel));\n",
        "  CUDA_CHECK(cudaEventCreate(&stopKernel));\n",
        "  CUDA_CHECK(cudaEventCreate(&startTotal));\n",
        "  CUDA_CHECK(cudaEventCreate(&stopTotal));\n",
        "\n",
        "  // --- Total start (kernel + D2H) ---\n",
        "  CUDA_CHECK(cudaEventRecord(startTotal));\n",
        "\n",
        "  // --- Kernel-only timing ---\n",
        "  CUDA_CHECK(cudaEventRecord(startKernel));\n",
        "  const int TPB = 256;\n",
        "  const int blocks = (N + TPB - 1) / TPB;\n",
        "  fib_kernel<<<blocks, TPB>>>(d_out, N);\n",
        "  CUDA_CHECK(cudaGetLastError());\n",
        "  CUDA_CHECK(cudaEventRecord(stopKernel));\n",
        "  CUDA_CHECK(cudaEventSynchronize(stopKernel));\n",
        "\n",
        "  float kernelMs = 0.f;\n",
        "  CUDA_CHECK(cudaEventElapsedTime(&kernelMs, startKernel, stopKernel));\n",
        "\n",
        "  // --- Copy result back & stop total timer ---\n",
        "  CUDA_CHECK(cudaMemcpy(h_out, d_out, bytes, cudaMemcpyDeviceToHost));\n",
        "  CUDA_CHECK(cudaEventRecord(stopTotal));\n",
        "  CUDA_CHECK(cudaEventSynchronize(stopTotal));\n",
        "\n",
        "  float totalMs = 0.f;\n",
        "  CUDA_CHECK(cudaEventElapsedTime(&totalMs, startTotal, stopTotal));\n",
        "\n",
        "  // Print verification and timings\n",
        "  printf(\"F(0..9):\");\n",
        "  for (int i = 0; i < 10; ++i) {\n",
        "    printf(\" %llu\", h_out[i]);\n",
        "  }\n",
        "  printf(\"\\nKernel-only time: %.3f ms\\n\", kernelMs);\n",
        "  printf(\"End-to-end time:  %.3f ms\\n\", totalMs);\n",
        "\n",
        "  // **Print final value**\n",
        "  printf(\"Final F(%d) = %llu\\n\", N-1, h_out[N-1]);\n",
        "\n",
        "  // Cleanup\n",
        "  CUDA_CHECK(cudaFree(d_out));\n",
        "  free(h_out);\n",
        "  CUDA_CHECK(cudaEventDestroy(startKernel));\n",
        "  CUDA_CHECK(cudaEventDestroy(stopKernel));\n",
        "  CUDA_CHECK(cudaEventDestroy(startTotal));\n",
        "  CUDA_CHECK(cudaEventDestroy(stopTotal));\n",
        "  return 0;\n",
        "}\n"
      ],
      "metadata": {
        "colab": {
          "base_uri": "https://localhost:8080/"
        },
        "id": "ZrtHQtNVdixB",
        "outputId": "22ad2a4a-d528-4ecd-eec6-886416be90c3"
      },
      "execution_count": null,
      "outputs": [
        {
          "output_type": "stream",
          "name": "stdout",
          "text": [
            "Overwriting fib_profile.cu\n"
          ]
        }
      ]
    },
    {
      "cell_type": "code",
      "source": [
        "%%bash\n",
        "nvcc -O2 fib_profile.cu -arch=sm_75 -o fib_profile\n",
        "./fib_profile > gpu_output.txt\n"
      ],
      "metadata": {
        "id": "AYJ1VIPodqXS"
      },
      "execution_count": null,
      "outputs": []
    },
    {
      "cell_type": "markdown",
      "source": [
        " C++ “**CPU‐only” version** that computes the same Fibonacci sequence in a simple loop and times it with <chrono>."
      ],
      "metadata": {
        "id": "1jRfk7WNiXBH"
      }
    },
    {
      "cell_type": "code",
      "source": [
        "%%writefile fib_seq.cpp\n",
        "#include <iostream>\n",
        "#include <vector>\n",
        "#include <chrono>\n",
        "\n",
        "int main() {\n",
        "    const int N = 1 << 23;  // same N as GPU\n",
        "    std::vector<unsigned long long> fib(N);\n",
        "\n",
        "    // Time the sequential loop\n",
        "    auto t0 = std::chrono::high_resolution_clock::now();\n",
        "    for (int i = 0; i < N; ++i) {\n",
        "        if (i == 0) {\n",
        "            fib[i] = 0ULL;\n",
        "        } else if (i == 1) {\n",
        "            fib[i] = 1ULL;\n",
        "        } else {\n",
        "            fib[i] = fib[i-1] + fib[i-2];\n",
        "        }\n",
        "    }\n",
        "    auto t1 = std::chrono::high_resolution_clock::now();\n",
        "\n",
        "    double ms = std::chrono::duration<double, std::milli>(t1 - t0).count();\n",
        "\n",
        "    // Print verification and timing\n",
        "    std::cout << \"F(0..9):\";\n",
        "    for (int i = 0; i < 10; ++i) {\n",
        "        std::cout << \" \" << fib[i];\n",
        "    }\n",
        "    std::cout << \"\\nSequential time: \"\n",
        "              << ms << \" ms\\n\";\n",
        "\n",
        "    // **Print final value**\n",
        "    std::cout << \"Final F(\" << N-1 << \") = \" << fib[N-1] << \"\\n\";\n",
        "    return 0;\n",
        "}\n"
      ],
      "metadata": {
        "colab": {
          "base_uri": "https://localhost:8080/"
        },
        "id": "MC6OhlNiicI-",
        "outputId": "120fc1a9-d4bf-40c3-bd0f-589e12550a0b"
      },
      "execution_count": null,
      "outputs": [
        {
          "output_type": "stream",
          "name": "stdout",
          "text": [
            "Overwriting fib_seq.cpp\n"
          ]
        }
      ]
    },
    {
      "cell_type": "code",
      "source": [
        "%%bash\n",
        "g++ -O2 fib_seq.cpp -o fib_seq\n",
        "./fib_seq > cpu_output.txt\n"
      ],
      "metadata": {
        "id": "dx-AZcrkihWv"
      },
      "execution_count": null,
      "outputs": []
    },
    {
      "cell_type": "markdown",
      "source": [
        "Python Comparison & Plot"
      ],
      "metadata": {
        "id": "ChC98ynDpuNP"
      }
    },
    {
      "cell_type": "code",
      "source": [
        "import re\n",
        "import subprocess\n",
        "import matplotlib.pyplot as plt\n",
        "\n",
        "# Run and capture both outputs\n",
        "subprocess.run(['./fib_seq'], check=True)\n",
        "subprocess.run(['./fib_profile'], check=True)\n",
        "\n",
        "# Read outputs\n",
        "with open('cpu_output.txt') as f:\n",
        "    cpu = f.read()\n",
        "with open('gpu_output.txt') as f:\n",
        "    gpu = f.read()\n",
        "\n",
        "# Parse timings\n",
        "seq_t = float(re.search(r'Sequential time:\\s*([\\d.]+)\\s*ms', cpu).group(1))\n",
        "gpu_total = float(re.search(r'End-to-end time:\\s*([\\d.]+)\\s*ms', gpu).group(1))\n",
        "gpu_kernel = float(re.search(r'Kernel-only time:\\s*([\\d.]+)\\s*ms', gpu).group(1))\n",
        "\n",
        "# Parse final values\n",
        "seq_final = re.search(r'Final F\\(\\d+\\) = (\\d+)', cpu).group(1)\n",
        "gpu_final = re.search(r'Final F\\(\\d+\\) = (\\d+)', gpu).group(1)\n",
        "\n",
        "print(f\"CPU final F: {seq_final}\")\n",
        "print(f\"GPU final F: {gpu_final}\")\n",
        "assert seq_final == gpu_final, \"Results differ!\"\n",
        "\n",
        "# Plot\n",
        "labels = ['CPU (seq)', 'GPU total', 'GPU kernel']\n",
        "times = [seq_t, gpu_total, gpu_kernel]\n",
        "\n",
        "plt.figure(figsize=(6,4))\n",
        "plt.bar(labels, times)\n",
        "plt.ylabel('Time (ms)')\n",
        "plt.title(f'Fibonacci N={(1<<25):,} Performance')\n",
        "for i, t in enumerate(times):\n",
        "    plt.text(i, t*1.01, f'{t:.1f}', ha='center')\n",
        "plt.tight_layout()\n",
        "plt.savefig('fib_compare.png')\n",
        "plt.show()\n"
      ],
      "metadata": {
        "colab": {
          "base_uri": "https://localhost:8080/",
          "height": 442
        },
        "id": "G7F_h99Yp0nS",
        "outputId": "f6d348ea-b1eb-486f-ed92-da698beb430a"
      },
      "execution_count": null,
      "outputs": [
        {
          "output_type": "stream",
          "name": "stdout",
          "text": [
            "CPU final F: 1943559390643943709\n",
            "GPU final F: 1943559390643943709\n"
          ]
        },
        {
          "output_type": "display_data",
          "data": {
            "text/plain": [
              "<Figure size 600x400 with 1 Axes>"
            ],
            "image/png": "[encoded data removed]"
          },
          "metadata": {}
        }
      ]
    }
  ]
}